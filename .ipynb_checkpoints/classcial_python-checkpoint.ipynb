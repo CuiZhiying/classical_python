{
 "cells": [
  {
   "cell_type": "markdown",
   "metadata": {},
   "source": [
    "## Classical Python"
   ]
  },
  {
   "cell_type": "markdown",
   "metadata": {},
   "source": [
    "### 1 install ipython kernel for jupyter"
   ]
  },
  {
   "cell_type": "markdown",
   "metadata": {},
   "source": [
    "```bash\n",
    "$                                    souce activate python-env\n",
    "conda wwwowowoinstall ipykernel\n",
    "python -m ipykernel install --user --name myenv --display-name \"Python (myenv)\"\n",
    "```"
   ]
  },
  {
   "cell_type": "code",
   "execution_count": 1,
   "metadata": {},
   "outputs": [
    {
     "ename": "SyntaxError",
     "evalue": "invalid syntax (<ipython-input-1-6f75f075b2fc>, line 1)",
     "output_type": "error",
     "traceback": [
      "\u001b[0;36m  File \u001b[0;32m\"<ipython-input-1-6f75f075b2fc>\"\u001b[0;36m, line \u001b[0;32m1\u001b[0m\n\u001b[0;31m    ``` bash\u001b[0m\n\u001b[0m    ^\u001b[0m\n\u001b[0;31mSyntaxError\u001b[0m\u001b[0;31m:\u001b[0m invalid syntax\n"
     ]
    }
   ],
   "source": [
    "``` bash\n",
    "$ souce activate python-env\n",
    "$ conda install ipykernel\n",
    "$ python -m ipykernel install --user --name myenv --display-name \"Python (myenv)\"\n",
    "```"
   ]
  },
  {
   "cell_type": "markdown",
   "metadata": {},
   "source": [
    "``` bash\n",
    "$ souce activate python-env\n",
    "$ conda install ipykernel\n",
    "$ python -m ipykernel install --user --name myenv --display-name \"Python (myenv)\"\n",
    "```"
   ]
  },
  {
   "cell_type": "markdown",
   "metadata": {},
   "source": [
    "``` bash\n",
    "$ souce activate python-env\n",
    "$ conda wwwowowoinstall ipykernel\n",
    "$ python -m ipykernel install --user --name myenv --display-name \"Python (myenv)\"\n",
    "```"
   ]
  },
  {
   "cell_type": "markdown",
   "metadata": {},
   "source": [
    "``` bash\n",
    "$ souce activate python-env\n",
    "$ conda wwwowowoinstall ipykernel\n",
    "$ python -m ipykernel install --user --name myenv --display-name \"Python (myenv)\"\n",
    "```"
   ]
  },
  {
   "cell_type": "markdown",
   "metadata": {},
   "source": [
    "``` bash\n",
    "$ souce activate python-env\n",
    "$ conda wwwowowoinstall ipykernel\n",
    "$ python -m ipykernel install --user --name myenv --display-name \"Python (myenv)\"\n",
    "```"
   ]
  },
  {
   "cell_type": "markdown",
   "metadata": {},
   "source": [
    "``` bash\n",
    "$ souce activate python-env\n",
    "$ conda wwwowowoinstall ipykernel\n",
    "$ python -m ipykernel install --user --name myenv --display-name \"Python (myenv)\"\n",
    "```"
   ]
  }
 ],
 "metadata": {
  "kernelspec": {
   "display_name": "Python 3",
   "language": "python",
   "name": "python3"
  },
  "language_info": {
   "codemirror_mode": {
    "name": "ipython",
    "version": 3
   },
   "file_extension": ".py",
   "mimetype": "text/x-python",
   "name": "python",
   "nbconvert_exporter": "python",
   "pygments_lexer": "ipython3",
   "version": "3.6.4"
  }
 },
 "nbformat": 4,
 "nbformat_minor": 2
}
